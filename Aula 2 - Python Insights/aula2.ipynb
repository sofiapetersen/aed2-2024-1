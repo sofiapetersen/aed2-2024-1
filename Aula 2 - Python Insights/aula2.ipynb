{
 "cells": [
  {
   "cell_type": "code",
   "execution_count": null,
   "metadata": {},
   "outputs": [],
   "source": [
    "import pandas as pd\n",
    "\n",
    "# importar a tabela com os dados\n",
    "data = pd.read_csv(\"cancelamentos_sample.csv\")\n",
    "data = data.drop(columns=\"CustomerID\") # tirar colunas desnecessárias\n",
    "\n",
    "display(data)\n"
   ]
  },
  {
   "cell_type": "code",
   "execution_count": null,
   "metadata": {},
   "outputs": [],
   "source": [
    "\n",
    "# tirar as linhas que tao faltando informacao\n",
    "data = data.dropna()\n",
    "display(data.info()) # ver se todas colunas tao preenchidas"
   ]
  },
  {
   "cell_type": "code",
   "execution_count": null,
   "metadata": {},
   "outputs": [],
   "source": [
    "# contar quantos cancelaram e quantos nao cancelaram\n",
    "display(data[\"cancelou\"].value_counts()) \n",
    "display(data[\"cancelou\"].value_counts(normalize=True)) #colocar em %\n"
   ]
  },
  {
   "cell_type": "code",
   "execution_count": null,
   "metadata": {},
   "outputs": [],
   "source": [
    "import plotly.express as px\n",
    "\n",
    "\n",
    "for col in data.columns:\n",
    "# criar grafico\n",
    "    chart = px.histogram(data, x=col, color=\"cancelou\") #o color determina quais desses que cancelaram e quais que nao cancelaram (intersecção)\n",
    "    chart.show() #mostrar o grafico"
   ]
  },
  {
   "cell_type": "code",
   "execution_count": null,
   "metadata": {},
   "outputs": [],
   "source": [
    "# tirar algumas partes pra ver se diminui os cancelamentos\n",
    "data = data[data[\"duracao_contrato\"]!=\"Monthly\"] # analisando o grafico, clientes mensais cancelam mais\n",
    "data = data[data[\"ligacoes_callcenter\"]<=4] # clientes com 4+ ligacoes cancelam\n",
    "data = data[data[\"dias_atraso\"]<=20] # clientes com 20+ dias de atraso cancelam\n",
    "\n",
    "display(data[\"cancelou\"].value_counts(normalize=True)) #colocar em %\n",
    "\n"
   ]
  }
 ],
 "metadata": {
  "kernelspec": {
   "display_name": "base",
   "language": "python",
   "name": "python3"
  },
  "language_info": {
   "codemirror_mode": {
    "name": "ipython",
    "version": 3
   },
   "file_extension": ".py",
   "mimetype": "text/x-python",
   "name": "python",
   "nbconvert_exporter": "python",
   "pygments_lexer": "ipython3",
   "version": "3.11.5"
  },
  "orig_nbformat": 4
 },
 "nbformat": 4,
 "nbformat_minor": 2
}
